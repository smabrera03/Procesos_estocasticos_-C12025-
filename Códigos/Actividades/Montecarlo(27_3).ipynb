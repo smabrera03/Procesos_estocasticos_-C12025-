{
 "cells": [
  {
   "cell_type": "markdown",
   "metadata": {},
   "source": [
    "# Pintó timba\n",
    "\n",
    "Pensemos un cacho\n",
    "\n",
    "necesito 10 VA uniformes sobre (0,1)\n",
    "\n",
    "$X_i == U(0,1)$\n",
    "\n",
    "Digamos que tomo N muestras de cada variable\n",
    "\n",
    "Tengo N realizaciones de un vector aleatorio en $R^{10}$\n",
    "\n",
    "Evalúo mi función g $R^{10} a R$ en cada una de las realizaciones.\n",
    "\n",
    "Tomo la media muestral\n",
    "\n",
    "la integral es ma o meno el volumen x la media  \n"
   ]
  },
  {
   "cell_type": "code",
   "execution_count": 19,
   "metadata": {},
   "outputs": [
    {
     "name": "stdout",
     "output_type": "stream",
     "text": [
      "0.05402204503929381\n"
     ]
    }
   ],
   "source": [
    "import numpy as np\n",
    "import scipy as sp\n",
    "N = 500000 #cantidad de muestras\n",
    "X = np.random.uniform(low = 0, high = 1, size = (10, N)) #matriz de realizaciones\n",
    "\n",
    "G = np.zeros(N) #vector de realizaciones de g(X)\n",
    "\n",
    "for i in range(N):\n",
    "    real = X[: , i] #realización de X (vector de largo 10)\n",
    "    pot = -np.dot(real, real)\n",
    "    G[i] = np.exp(pot)\n",
    "\n",
    "V = 1**10 #volumen del area a integrar\n",
    "I = V * np.mean(G)\n",
    "print(I)\n"
   ]
  },
  {
   "cell_type": "code",
   "execution_count": null,
   "metadata": {},
   "outputs": [
    {
     "name": "stdout",
     "output_type": "stream",
     "text": [
      "0.05397385432900741\n"
     ]
    }
   ],
   "source": [
    "I_real = ((np.sqrt(np.pi)/2)*sp.special.erf(1))**10\n",
    "print(I_real)\n",
    "#da un poquito disinto, pero me conformo"
   ]
  },
  {
   "cell_type": "code",
   "execution_count": null,
   "metadata": {},
   "outputs": [],
   "source": []
  }
 ],
 "metadata": {
  "kernelspec": {
   "display_name": "Python 3",
   "language": "python",
   "name": "python3"
  },
  "language_info": {
   "codemirror_mode": {
    "name": "ipython",
    "version": 3
   },
   "file_extension": ".py",
   "mimetype": "text/x-python",
   "name": "python",
   "nbconvert_exporter": "python",
   "pygments_lexer": "ipython3",
   "version": "3.11.9"
  }
 },
 "nbformat": 4,
 "nbformat_minor": 2
}
